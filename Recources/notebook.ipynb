{
 "cells": [
  {
   "attachments": {},
   "cell_type": "markdown",
   "metadata": {},
   "source": [
    "Using this notebook to run queries I'll be running often."
   ]
  },
  {
   "cell_type": "code",
   "execution_count": 5,
   "metadata": {},
   "outputs": [],
   "source": [
    "# First load all necessary libraries\n",
    "import os\n",
    "import sqlite3\n",
    "import requests\n",
    "import shutil\n",
    "\n",
    "db_path = os.environ.get('DB_PATH')"
   ]
  },
  {
   "cell_type": "code",
   "execution_count": 12,
   "metadata": {},
   "outputs": [
    {
     "data": {
      "text/plain": [
       "'../databases/database'"
      ]
     },
     "execution_count": 12,
     "metadata": {},
     "output_type": "execute_result"
    }
   ],
   "source": [
    "# Make a copy of unfilled database into databases folder\n",
    "source_file = './unfilled_db'\n",
    "db_path = '../databases/database'\n",
    "shutil.copy(source_file, db_path)"
   ]
  }
 ],
 "metadata": {
  "kernelspec": {
   "display_name": "Python 3",
   "language": "python",
   "name": "python3"
  },
  "language_info": {
   "codemirror_mode": {
    "name": "ipython",
    "version": 3
   },
   "file_extension": ".py",
   "mimetype": "text/x-python",
   "name": "python",
   "nbconvert_exporter": "python",
   "pygments_lexer": "ipython3",
   "version": "3.10.7"
  },
  "orig_nbformat": 4,
  "vscode": {
   "interpreter": {
    "hash": "5c96f01ceb864e4f314488f796d7ad3ed3c5d7e2e6828b71e2c816343e6bed5e"
   }
  }
 },
 "nbformat": 4,
 "nbformat_minor": 2
}
